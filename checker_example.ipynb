{
 "cells": [
  {
   "cell_type": "code",
   "execution_count": 11,
   "metadata": {},
   "outputs": [],
   "source": [
    "from utils import utils, check\n",
    "from algorithms.brute_force import BruteForce\n",
    "from algorithms.dict_version.brute_force import BruteForce as DictBruteForce\n",
    "from algorithms.barman import Barman\n",
    "from algorithms.garg import GargAlgorithm\n",
    "from algorithms.dict_version.barman import Barman as DictBarman\n",
    "from algorithms.envy_cycle import EnvyCycleElimination\n",
    "from algorithms.generalized_adjusted_winner import GeneralizedAdjustedWinner\n",
    "from utils.check import Checker\n",
    "from algorithms.minmaxenvy_trade import MinimaxTrade\n",
    "from algorithms.seq_min_envy import SeqMinEnvy\n",
    "from algorithms import mnw \n",
    "from utils import utils\n",
    "\n",
    "\n",
    "import numpy as np"
   ]
  },
  {
   "cell_type": "markdown",
   "metadata": {},
   "source": [
    "# Usage example of the checker class"
   ]
  },
  {
   "cell_type": "code",
   "execution_count": null,
   "metadata": {},
   "outputs": [],
   "source": []
  },
  {
   "cell_type": "markdown",
   "metadata": {},
   "source": [
    "## Generate random valuation for two agents"
   ]
  },
  {
   "cell_type": "code",
   "execution_count": 12,
   "metadata": {},
   "outputs": [
    {
     "name": "stdout",
     "output_type": "stream",
     "text": [
      "Valuation: \n",
      "[[ 1  1 11 14 13 10]\n",
      " [14  9  4  4  2 17]]\n",
      "\n"
     ]
    }
   ],
   "source": [
    "n = 2\n",
    "m = 6\n",
    "valuation_range = np.array([1, 21])\n",
    "valuation = utils.randint_valuation(n, m, valuation_range)\n",
    "print(f\"Valuation: \\n{valuation}\\n\")"
   ]
  },
  {
   "cell_type": "code",
   "execution_count": 13,
   "metadata": {},
   "outputs": [
    {
     "name": "stdout",
     "output_type": "stream",
     "text": [
      "Current allocation: \n",
      "[[0 0 1 1 1 1]\n",
      " [1 1 0 0 0 0]]\n",
      "\n",
      "Is resource monotonicity: False\n",
      "\n",
      "Current allocation: \n",
      "[[0 0 0 1 1 0]\n",
      " [1 1 1 0 0 1]]\n",
      "\n",
      "Is resource monotonicity: True\n",
      "\n"
     ]
    }
   ],
   "source": [
    "genaw = GeneralizedAdjustedWinner(valuation)\n",
    "allocation = genaw.get_allocation()\n",
    "\n",
    "for allocation in allocation:\n",
    "    print(f\"Current allocation: \\n{allocation}\\n\")\n",
    "    checker = Checker(n, m, valuation, allocation, method=\"gen_adjusted_winner\")\n",
    "    is_rm, removed_items, breach_allocation = checker.check_resource_monotonicity()\n",
    "    print(f\"Is resource monotonicity: {is_rm}\\n\") "
   ]
  },
  {
   "cell_type": "code",
   "execution_count": 14,
   "metadata": {},
   "outputs": [
    {
     "name": "stdout",
     "output_type": "stream",
     "text": [
      "Current allocation: \n",
      "[[0 0 1 1 1 0]\n",
      " [1 1 0 0 0 1]]\n",
      "\n",
      "Is resource monotonicity: True\n",
      "\n"
     ]
    }
   ],
   "source": [
    "minimax = MinimaxTrade(len(valuation), len(valuation[0]), valuation)\n",
    "allocation = minimax.minimax_trade()\n",
    "\n",
    "print(f\"Current allocation: \\n{allocation}\\n\")\n",
    "checker = Checker(n, m, valuation, allocation, method=\"bf\")\n",
    "is_rm, removed_items, breach_allocation = checker.check_resource_monotonicity()\n",
    "print(f\"Is resource monotonicity: {is_rm}\\n\")\n"
   ]
  },
  {
   "cell_type": "markdown",
   "metadata": {},
   "source": [
    "## Generate random valuation"
   ]
  },
  {
   "cell_type": "code",
   "execution_count": 15,
   "metadata": {},
   "outputs": [
    {
     "name": "stdout",
     "output_type": "stream",
     "text": [
      "Valuation: \n",
      "[[3 8 4 6 9 5]\n",
      " [7 4 8 7 2 0]\n",
      " [2 7 4 7 1 6]\n",
      " [9 4 8 2 1 7]]\n",
      "\n"
     ]
    }
   ],
   "source": [
    "n = 4\n",
    "m = 6\n",
    "valuation_range = np.array([1, 21])\n",
    "valuation = utils.randint_valuation(n, m, valuation_range)\n",
    "print(f\"Valuation: \\n{valuation}\\n\")"
   ]
  },
  {
   "cell_type": "code",
   "execution_count": 16,
   "metadata": {},
   "outputs": [
    {
     "name": "stdout",
     "output_type": "stream",
     "text": [
      "Current allocation: \n",
      "[[0 0 0 0 1 0]\n",
      " [0 0 1 0 0 0]\n",
      " [0 1 0 1 0 0]\n",
      " [1 0 0 0 0 1]]\n",
      "\n"
     ]
    },
    {
     "name": "stderr",
     "output_type": "stream",
     "text": [
      "c:\\Users\\Admin\\github\\indivisible_goods_allocation\\utils\\check.py:770: RuntimeWarning: divide by zero encountered in log\n",
      "  log_weights = np.log(weights)\n"
     ]
    },
    {
     "name": "stdout",
     "output_type": "stream",
     "text": [
      "Is resource monotonicity: False\n",
      "\n",
      "Current allocation: \n",
      "[[0 0 0 0 1 0]\n",
      " [0 0 1 0 0 0]\n",
      " [0 1 0 1 0 0]\n",
      " [1 0 0 0 0 1]]\n",
      "\n",
      "Is resource monotonicity: False\n",
      "\n"
     ]
    }
   ],
   "source": [
    "allocations = mnw.maximize_nash_welfare_bruteforce(n, m, valuation)\n",
    "\n",
    "for allocation in allocations:\n",
    "    print(f\"Current allocation: \\n{allocation}\\n\")\n",
    "    checker = Checker(n, m, valuation, allocation, method=\"mnw\")\n",
    "    is_rm, removed_items, breach_allocation = checker.check_resource_monotonicity()\n",
    "    print(f\"Is resource monotonicity: {is_rm}\\n\")"
   ]
  },
  {
   "cell_type": "code",
   "execution_count": 17,
   "metadata": {},
   "outputs": [
    {
     "name": "stdout",
     "output_type": "stream",
     "text": [
      "Current allocation: \n",
      "[[0 1 0 0 1 0]\n",
      " [0 0 1 0 0 0]\n",
      " [0 0 0 1 0 0]\n",
      " [1 0 0 0 0 1]]\n",
      "\n",
      "Is resource monotonicity: True\n",
      "\n"
     ]
    }
   ],
   "source": [
    "barman = Barman(n, m, valuation)\n",
    "allocation, price = barman.run_algorithm()\n",
    "print(f\"Current allocation: \\n{allocation}\\n\")\n",
    "checker = Checker(n, m, valuation, allocation, method=\"barman\")\n",
    "is_rm, removed_items, breach_allocation = checker.check_resource_monotonicity()\n",
    "print(f\"Is resource monotonicity: {is_rm}\\n\")"
   ]
  },
  {
   "cell_type": "code",
   "execution_count": 18,
   "metadata": {},
   "outputs": [
    {
     "name": "stdout",
     "output_type": "stream",
     "text": [
      "Current allocation: \n",
      "[[0 1 0 0 1 0]\n",
      " [0 0 1 0 0 0]\n",
      " [0 0 0 1 0 0]\n",
      " [1 0 0 0 0 1]]\n",
      "\n",
      "Is resource monotonicity: True\n",
      "\n"
     ]
    }
   ],
   "source": [
    "garg = GargAlgorithm(n, m, valuation)\n",
    "allocation, price = garg.run_algorithm()\n",
    "print(f\"Current allocation: \\n{allocation}\\n\")\n",
    "checker = Checker(n, m, valuation, allocation, method=\"garg\")\n",
    "is_rm, removed_items, breach_allocation = checker.check_resource_monotonicity()\n",
    "print(f\"Is resource monotonicity: {is_rm}\\n\")"
   ]
  },
  {
   "cell_type": "code",
   "execution_count": 19,
   "metadata": {},
   "outputs": [
    {
     "name": "stdout",
     "output_type": "stream",
     "text": [
      "Current allocation: \n",
      "[[0 0 0 0 1 0]\n",
      " [0 0 0 1 0 0]\n",
      " [0 1 0 0 0 0]\n",
      " [1 0 1 0 0 1]]\n",
      "\n",
      "Is resource monotonicity: False\n",
      "\n",
      "Current allocation: \n",
      "[[0 0 0 0 1 0]\n",
      " [0 0 1 0 0 0]\n",
      " [0 1 0 1 0 0]\n",
      " [1 0 0 0 0 1]]\n",
      "\n",
      "Is resource monotonicity: True\n",
      "\n",
      "Current allocation: \n",
      "[[0 0 0 0 1 0]\n",
      " [0 0 0 1 0 0]\n",
      " [0 1 0 0 0 1]\n",
      " [1 0 1 0 0 0]]\n",
      "\n",
      "Is resource monotonicity: False\n",
      "\n",
      "Current allocation: \n",
      "[[0 0 0 0 1 0]\n",
      " [0 0 1 1 0 0]\n",
      " [0 1 0 0 0 0]\n",
      " [1 0 0 0 0 1]]\n",
      "\n",
      "Is resource monotonicity: True\n",
      "\n",
      "Current allocation: \n",
      "[[0 0 0 0 1 0]\n",
      " [0 0 1 1 0 0]\n",
      " [0 1 0 0 0 1]\n",
      " [1 0 0 0 0 0]]\n",
      "\n",
      "Is resource monotonicity: True\n",
      "\n",
      "Current allocation: \n",
      "[[0 1 0 0 1 0]\n",
      " [0 0 1 0 0 0]\n",
      " [0 0 0 1 0 0]\n",
      " [1 0 0 0 0 1]]\n",
      "\n",
      "Is resource monotonicity: True\n",
      "\n",
      "Current allocation: \n",
      "[[0 1 0 0 1 0]\n",
      " [0 0 0 1 0 0]\n",
      " [0 0 0 0 0 1]\n",
      " [1 0 1 0 0 0]]\n",
      "\n",
      "Is resource monotonicity: False\n",
      "\n",
      "Current allocation: \n",
      "[[0 0 0 0 1 1]\n",
      " [0 0 0 1 0 0]\n",
      " [0 1 0 0 0 0]\n",
      " [1 0 1 0 0 0]]\n",
      "\n",
      "Is resource monotonicity: False\n",
      "\n",
      "Current allocation: \n",
      "[[0 1 0 0 1 0]\n",
      " [0 0 1 0 0 0]\n",
      " [0 0 0 1 0 1]\n",
      " [1 0 0 0 0 0]]\n",
      "\n",
      "Is resource monotonicity: True\n",
      "\n",
      "Current allocation: \n",
      "[[0 0 0 0 1 1]\n",
      " [0 0 1 0 0 0]\n",
      " [0 1 0 1 0 0]\n",
      " [1 0 0 0 0 0]]\n",
      "\n",
      "Is resource monotonicity: True\n",
      "\n",
      "Current allocation: \n",
      "[[0 1 0 0 1 0]\n",
      " [0 0 1 1 0 0]\n",
      " [0 0 0 0 0 1]\n",
      " [1 0 0 0 0 0]]\n",
      "\n",
      "Is resource monotonicity: False\n",
      "\n",
      "Current allocation: \n",
      "[[0 0 0 0 1 1]\n",
      " [0 0 1 1 0 0]\n",
      " [0 1 0 0 0 0]\n",
      " [1 0 0 0 0 0]]\n",
      "\n",
      "Is resource monotonicity: True\n",
      "\n",
      "Current allocation: \n",
      "[[0 1 0 0 1 1]\n",
      " [0 0 1 0 0 0]\n",
      " [0 0 0 1 0 0]\n",
      " [1 0 0 0 0 0]]\n",
      "\n",
      "Is resource monotonicity: True\n",
      "\n"
     ]
    }
   ],
   "source": [
    "bf = BruteForce(n, m, valuation)\n",
    "allocations = bf.compute_ef1_and_po_allocations()\n",
    "for allocation in allocations:\n",
    "    print(f\"Current allocation: \\n{allocation}\\n\")\n",
    "    checker = Checker(n, m, valuation, allocation, method=\"bf\")\n",
    "    is_rm, removed_items, breach_allocation = checker.check_resource_monotonicity()\n",
    "    print(f\"Is resource monotonicity: {is_rm}\\n\")"
   ]
  },
  {
   "cell_type": "code",
   "execution_count": 20,
   "metadata": {},
   "outputs": [
    {
     "name": "stdout",
     "output_type": "stream",
     "text": [
      "Current allocation: \n",
      "[[0 0 0 1 1 0]\n",
      " [0 0 1 0 0 1]\n",
      " [0 1 0 0 0 0]\n",
      " [1 0 0 0 0 0]]\n",
      "\n"
     ]
    }
   ],
   "source": [
    "EnvyCycle = EnvyCycleElimination(n, m, valuation)\n",
    "allocation = EnvyCycle.envy_cycle_elimination()\n",
    "\n",
    "print(f\"Current allocation: \\n{allocation}\\n\")"
   ]
  }
 ],
 "metadata": {
  "kernelspec": {
   "display_name": "thesis",
   "language": "python",
   "name": "python3"
  },
  "language_info": {
   "codemirror_mode": {
    "name": "ipython",
    "version": 3
   },
   "file_extension": ".py",
   "mimetype": "text/x-python",
   "name": "python",
   "nbconvert_exporter": "python",
   "pygments_lexer": "ipython3",
   "version": "3.11.7"
  }
 },
 "nbformat": 4,
 "nbformat_minor": 2
}
